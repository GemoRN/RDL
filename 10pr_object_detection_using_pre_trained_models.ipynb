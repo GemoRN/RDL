{
  "cells": [
    {
      "cell_type": "markdown",
      "source": [
        "## program for object detection using pre-trained models touse object detection"
      ],
      "metadata": {
        "id": "gHYszTlY0BcU"
      },
      "id": "gHYszTlY0BcU"
    },
    {
      "cell_type": "code",
      "execution_count": 3,
      "id": "2b36949f",
      "metadata": {
        "colab": {
          "base_uri": "https://localhost:8080/"
        },
        "id": "2b36949f",
        "outputId": "d4ab48cc-36db-4d58-e82e-0b5f6431767a"
      },
      "outputs": [
        {
          "output_type": "stream",
          "name": "stdout",
          "text": [
            "1/1 [==============================] - 1s 1s/step\n",
            "Downloading data from https://storage.googleapis.com/download.tensorflow.org/data/imagenet_class_index.json\n",
            "35363/35363 [==============================] - 0s 0us/step\n",
            "Object  1 :  birdhouse , Probability:  0.10978619\n",
            "Object  2 :  soccer_ball , Probability:  0.09997672\n"
          ]
        }
      ],
      "source": [
        "import tensorflow as tf\n",
        "\n",
        "import numpy as np\n",
        "import tensorflow as tf\n",
        "from tensorflow.keras.applications.vgg16 import VGG16, preprocess_input,decode_predictions\n",
        "from tensorflow.keras.preprocessing.image import load_img, img_to_array\n",
        "\n",
        "# Load the VGG16 model with pre-trained weights\n",
        "model = VGG16()\n",
        "\n",
        "# Load the image to detect objects in\n",
        "image = load_img('/content/objectdetectimage2.jpg', target_size=(224, 224))\n",
        "\n",
        "# Convert the image to a numpy array\n",
        "image = img_to_array(image)\n",
        "\n",
        "# Reshape the image data for VGG\n",
        "image = image.reshape((1, image.shape[0], image.shape[1], image.shape[2]))\n",
        "\n",
        "# Preprocess the image\n",
        "image = preprocess_input(image)\n",
        "\n",
        "# Make predictions on the image using the VGG model\n",
        "predictions = model.predict(image)\n",
        "\n",
        "# Decode the predictions\n",
        "decoded_predictions = decode_predictions(predictions, top=2)\n",
        "\n",
        "# Print the predictions with their probabilities\n",
        "for i, prediction in enumerate(decoded_predictions[0]):\n",
        "    print(\"Object \", i+1, \": \", prediction[1], \", Probability: \", prediction[2])"
      ]
    },
    {
      "cell_type": "code",
      "execution_count": null,
      "id": "079ba540",
      "metadata": {
        "id": "079ba540"
      },
      "outputs": [],
      "source": []
    }
  ],
  "metadata": {
    "kernelspec": {
      "display_name": "Python 3 (ipykernel)",
      "language": "python",
      "name": "python3"
    },
    "language_info": {
      "codemirror_mode": {
        "name": "ipython",
        "version": 3
      },
      "file_extension": ".py",
      "mimetype": "text/x-python",
      "name": "python",
      "nbconvert_exporter": "python",
      "pygments_lexer": "ipython3",
      "version": "3.9.7"
    },
    "colab": {
      "provenance": []
    }
  },
  "nbformat": 4,
  "nbformat_minor": 5
}