{
  "cells": [
    {
      "cell_type": "markdown",
      "source": [
        "## Implement deep learning for recognizing classes for datasets like CIFAR-10 images for previously unseen images and assign them to one of the 10 classes."
      ],
      "metadata": {
        "id": "gwhX1Jceu9Ut"
      },
      "id": "gwhX1Jceu9Ut"
    },
    {
      "cell_type": "code",
      "execution_count": 1,
      "id": "de891ffb",
      "metadata": {
        "colab": {
          "base_uri": "https://localhost:8080/"
        },
        "id": "de891ffb",
        "outputId": "355c4546-3d5f-45e4-fe46-85cf9755104a"
      },
      "outputs": [
        {
          "output_type": "stream",
          "name": "stdout",
          "text": [
            "Downloading data from https://www.cs.toronto.edu/~kriz/cifar-10-python.tar.gz\n",
            "170498071/170498071 [==============================] - 2s 0us/step\n",
            "Epoch 1/10\n",
            "782/782 [==============================] - 76s 96ms/step - loss: 1.6126 - accuracy: 0.4151 - val_loss: 1.3492 - val_accuracy: 0.5270\n",
            "Epoch 2/10\n",
            "782/782 [==============================] - 72s 92ms/step - loss: 1.3164 - accuracy: 0.5355 - val_loss: 1.1753 - val_accuracy: 0.5930\n",
            "Epoch 3/10\n",
            "782/782 [==============================] - 73s 93ms/step - loss: 1.2014 - accuracy: 0.5791 - val_loss: 1.1073 - val_accuracy: 0.6111\n",
            "Epoch 4/10\n",
            "782/782 [==============================] - 72s 92ms/step - loss: 1.1265 - accuracy: 0.6062 - val_loss: 1.0395 - val_accuracy: 0.6407\n",
            "Epoch 5/10\n",
            "782/782 [==============================] - 72s 92ms/step - loss: 1.0836 - accuracy: 0.6224 - val_loss: 0.9899 - val_accuracy: 0.6551\n",
            "Epoch 6/10\n",
            "782/782 [==============================] - 73s 93ms/step - loss: 1.0430 - accuracy: 0.6369 - val_loss: 0.9728 - val_accuracy: 0.6683\n",
            "Epoch 7/10\n",
            "782/782 [==============================] - 70s 90ms/step - loss: 1.0112 - accuracy: 0.6472 - val_loss: 0.9599 - val_accuracy: 0.6718\n",
            "Epoch 8/10\n",
            "782/782 [==============================] - 71s 90ms/step - loss: 0.9883 - accuracy: 0.6584 - val_loss: 0.9392 - val_accuracy: 0.6770\n",
            "Epoch 9/10\n",
            "782/782 [==============================] - 71s 90ms/step - loss: 0.9721 - accuracy: 0.6624 - val_loss: 0.9215 - val_accuracy: 0.6880\n",
            "Epoch 10/10\n",
            "782/782 [==============================] - 70s 89ms/step - loss: 0.9457 - accuracy: 0.6702 - val_loss: 0.9171 - val_accuracy: 0.6823\n"
          ]
        }
      ],
      "source": [
        "import tensorflow as tf\n",
        "from tensorflow import keras\n",
        "from tensorflow.keras import layers\n",
        "\n",
        "# Load the data\n",
        "(x_train, y_train), (x_test, y_test) = keras.datasets.cifar10.load_data()\n",
        "\n",
        "# Preprocess the data\n",
        "x_train = x_train.astype(\"float32\") / 255.0\n",
        "x_test = x_test.astype(\"float32\") / 255.0\n",
        "\n",
        "# Convert labels to one-hot encoding format\n",
        "y_train = keras.utils.to_categorical(y_train, 10)\n",
        "y_test = keras.utils.to_categorical(y_test, 10)\n",
        "\n",
        "# Define the model architecture\n",
        "model = keras.Sequential([\n",
        "        keras.Input(shape=(32, 32, 3)),\n",
        "        layers.Conv2D(32, kernel_size=(3, 3), activation=\"relu\"),\n",
        "        layers.MaxPooling2D(pool_size=(2, 2)),\n",
        "        layers.Conv2D(64, kernel_size=(3, 3), activation=\"relu\"),\n",
        "        layers.MaxPooling2D(pool_size=(2, 2)),\n",
        "        layers.Flatten(),\n",
        "        layers.Dropout(0.5),\n",
        "        layers.Dense(10, activation=\"softmax\"),\n",
        "        ])\n",
        "\n",
        "# Compile the model\n",
        "model.compile(loss=\"categorical_crossentropy\", optimizer=\"adam\",metrics=[\"accuracy\"])\n",
        "\n",
        "# Train the model\n",
        "model.fit(x_train, y_train, batch_size=64, epochs=10, validation_data=(x_test,y_test))\n",
        "\n",
        "# Save the trained model to a file\n",
        "model.save(\"cifar10_model.h5\")"
      ]
    },
    {
      "cell_type": "code",
      "execution_count": 5,
      "id": "bb55b6fd",
      "metadata": {
        "scrolled": true,
        "colab": {
          "base_uri": "https://localhost:8080/"
        },
        "id": "bb55b6fd",
        "outputId": "d2c0409a-1dfa-42e2-f7e7-099eb1015eb0"
      },
      "outputs": [
        {
          "output_type": "stream",
          "name": "stdout",
          "text": [
            "1/1 [==============================] - 0s 74ms/step\n",
            "Predicted class label: 0\n"
          ]
        }
      ],
      "source": [
        "import numpy as np\n",
        "from PIL import Image\n",
        "\n",
        "# Load the saved model\n",
        "model = keras.models.load_model(\"cifar10_model.h5\")\n",
        "\n",
        "# Load and preprocess the test image\n",
        "img = Image.open(\"/content/3rd_pr_two.png\")\n",
        "img = img.resize((32, 32))\n",
        "img_array = np.array(img)\n",
        "img_array = img_array.astype(\"float32\") / 255.0\n",
        "img_array = np.expand_dims(img_array, axis=0)\n",
        "\n",
        "# Make predictions on the test image\n",
        "predictions = model.predict(img_array)\n",
        "\n",
        "# Get the predicted class label\n",
        "class_label = np.argmax(predictions)\n",
        "\n",
        "# Print the predicted class label\n",
        "print(\"Predicted class label:\", class_label)"
      ]
    },
    {
      "cell_type": "code",
      "execution_count": null,
      "id": "e156abc1",
      "metadata": {
        "id": "e156abc1"
      },
      "outputs": [],
      "source": []
    }
  ],
  "metadata": {
    "kernelspec": {
      "display_name": "Python 3 (ipykernel)",
      "language": "python",
      "name": "python3"
    },
    "language_info": {
      "codemirror_mode": {
        "name": "ipython",
        "version": 3
      },
      "file_extension": ".py",
      "mimetype": "text/x-python",
      "name": "python",
      "nbconvert_exporter": "python",
      "pygments_lexer": "ipython3",
      "version": "3.9.7"
    },
    "colab": {
      "provenance": []
    }
  },
  "nbformat": 4,
  "nbformat_minor": 5
}