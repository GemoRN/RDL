{
  "cells": [
    {
      "cell_type": "markdown",
      "source": [
        "## B. LSTM for sentiment analysis on datasets like UMICH SI650 for similar."
      ],
      "metadata": {
        "id": "D-NycijNyCf8"
      },
      "id": "D-NycijNyCf8"
    },
    {
      "cell_type": "code",
      "execution_count": 2,
      "id": "310d755b",
      "metadata": {
        "colab": {
          "base_uri": "https://localhost:8080/",
          "height": 941
        },
        "id": "310d755b",
        "outputId": "54dd377c-ef02-452f-cd80-151880eaf7e1"
      },
      "outputs": [
        {
          "output_type": "stream",
          "name": "stdout",
          "text": [
            "Epoch 1/10\n",
            "156/156 [==============================] - 30s 164ms/step - loss: 0.6853 - accuracy: 0.5689 - val_loss: 0.6883 - val_accuracy: 0.5523\n",
            "Epoch 2/10\n",
            "156/156 [==============================] - 29s 183ms/step - loss: 0.6843 - accuracy: 0.5689 - val_loss: 0.6879 - val_accuracy: 0.5523\n",
            "Epoch 3/10\n",
            "156/156 [==============================] - 25s 160ms/step - loss: 0.6843 - accuracy: 0.5689 - val_loss: 0.6877 - val_accuracy: 0.5523\n",
            "Epoch 4/10\n",
            "156/156 [==============================] - 23s 145ms/step - loss: 0.6840 - accuracy: 0.5689 - val_loss: 0.6879 - val_accuracy: 0.5523\n",
            "Epoch 5/10\n",
            "156/156 [==============================] - 23s 145ms/step - loss: 0.6838 - accuracy: 0.5693 - val_loss: 0.6882 - val_accuracy: 0.5523\n",
            "Epoch 6/10\n",
            "156/156 [==============================] - 24s 155ms/step - loss: 0.6841 - accuracy: 0.5693 - val_loss: 0.6887 - val_accuracy: 0.5523\n",
            "Epoch 7/10\n",
            "156/156 [==============================] - 22s 141ms/step - loss: 0.6842 - accuracy: 0.5693 - val_loss: 0.6879 - val_accuracy: 0.5523\n",
            "Epoch 8/10\n",
            "156/156 [==============================] - 22s 142ms/step - loss: 0.6842 - accuracy: 0.5693 - val_loss: 0.6883 - val_accuracy: 0.5523\n",
            "Epoch 9/10\n",
            "156/156 [==============================] - 23s 147ms/step - loss: 0.6838 - accuracy: 0.5693 - val_loss: 0.6880 - val_accuracy: 0.5523\n",
            "Epoch 10/10\n",
            "156/156 [==============================] - 23s 148ms/step - loss: 0.6837 - accuracy: 0.5693 - val_loss: 0.6878 - val_accuracy: 0.5523\n",
            "44/44 [==============================] - 1s 20ms/step - loss: 0.6826 - accuracy: 0.5809\n",
            "Test loss: 0.6825847029685974\n",
            "Test accuracy: 0.5809248685836792\n"
          ]
        },
        {
          "output_type": "display_data",
          "data": {
            "text/plain": [
              "<Figure size 640x480 with 1 Axes>"
            ],
            "image/png": "[encoded data removed]"
          },
          "metadata": {}
        },
        {
          "output_type": "stream",
          "name": "stdout",
          "text": [
            "44/44 [==============================] - 1s 17ms/step\n",
            "Text: that and the da vinci code is awesome so far <OOV> <OOV> <OOV> <OOV> <OOV> <OOV> <OOV> <OOV> <OOV> <OOV> <OOV> <OOV> <OOV> <OOV> <OOV> <OOV> <OOV> <OOV> <OOV> <OOV> <OOV> <OOV> <OOV> <OOV> <OOV> <OOV> <OOV> <OOV> <OOV> <OOV> <OOV> <OOV> <OOV> <OOV> <OOV> <OOV> <OOV> <OOV> <OOV> <OOV> <OOV> <OOV> <OOV> <OOV> <OOV> <OOV> <OOV> <OOV> <OOV> <OOV> <OOV> <OOV> <OOV> <OOV> <OOV> <OOV> <OOV> <OOV> <OOV> <OOV> <OOV> <OOV> <OOV> <OOV> <OOV> <OOV> <OOV> <OOV> <OOV> <OOV> <OOV> <OOV> <OOV> <OOV> <OOV> <OOV> <OOV> <OOV> <OOV> <OOV> <OOV> <OOV> <OOV> <OOV> <OOV> <OOV> <OOV> <OOV> <OOV> <OOV>\n",
            "Actual label: 1\n",
            "Predicted label: 1\n"
          ]
        }
      ],
      "source": [
        "import pandas as pd\n",
        "import numpy as np\n",
        "import tensorflow as tf\n",
        "from tensorflow.keras.preprocessing.text import Tokenizer\n",
        "from tensorflow.keras.preprocessing.sequence import pad_sequences\n",
        "from sklearn.model_selection import train_test_split\n",
        "import matplotlib.pyplot as plt\n",
        "\n",
        "#Load data\n",
        "data = pd.read_csv(\"/content/8pr_b_training.txt\", delimiter=\"\\t\", names=[\"label\", \"text\"])\n",
        "\n",
        "# Split data into training and testing sets\n",
        "X_train, X_test, y_train, y_test = train_test_split(data[\"text\"],data[\"label\"], test_size=0.2, random_state=42)\n",
        "\n",
        "# Tokenize words\n",
        "tokenizer = Tokenizer(num_words=5000, oov_token=\"<OOV>\")\n",
        "tokenizer.fit_on_texts(X_train)\n",
        "\n",
        "# Convert words to sequences\n",
        "X_train_seq = tokenizer.texts_to_sequences(X_train)\n",
        "X_test_seq = tokenizer.texts_to_sequences(X_test)\n",
        "\n",
        "# Pad sequences to have same length\n",
        "max_length = 100\n",
        "X_train_pad = pad_sequences(X_train_seq, maxlen=max_length, padding=\"post\",truncating=\"post\")\n",
        "X_test_pad = pad_sequences(X_test_seq, maxlen=max_length, padding=\"post\",truncating=\"post\")\n",
        "\n",
        "# Build LSTM model\n",
        "model = tf.keras.models.Sequential([\n",
        "        tf.keras.layers.Embedding(input_dim=5000, output_dim=32,input_length=max_length),\n",
        "        tf.keras.layers.LSTM(units=64, dropout=0.2, recurrent_dropout=0.2),\n",
        "        tf.keras.layers.Dense(1, activation=\"sigmoid\")\n",
        "        ])\n",
        "\n",
        "# Compile model\n",
        "model.compile(optimizer=\"adam\", loss=\"binary_crossentropy\",metrics=[\"accuracy\"])\n",
        "\n",
        "# Train model\n",
        "history = model.fit(X_train_pad, y_train, epochs=10, batch_size=32,validation_split=0.1)\n",
        "\n",
        "# Evaluate model on test data\n",
        "loss, accuracy = model.evaluate(X_test_pad, y_test)\n",
        "print(\"Test loss:\", loss)\n",
        "print(\"Test accuracy:\", accuracy)\n",
        "\n",
        "# Plot training and validation accuracy over time\n",
        "plt.plot(history.history[\"accuracy\"], label=\"Training accuracy\")\n",
        "plt.plot(history.history[\"val_accuracy\"], label=\"Validation accuracy\")\n",
        "plt.xlabel(\"Epoch\")\n",
        "plt.ylabel(\"Accuracy\")\n",
        "plt.legend()\n",
        "plt.show()\n",
        "\n",
        "# Make predictions on test data\n",
        "predictions = model.predict(X_test_pad)\n",
        "\n",
        "# Print input, output, and prediction for random example\n",
        "index = np.random.randint(0, len(X_test_pad))\n",
        "text = tokenizer.sequences_to_texts([X_test_pad[index]])[0]\n",
        "label = y_test.values[index]\n",
        "prediction = predictions[index][0]\n",
        "print(\"Text:\", text)\n",
        "print(\"Actual label:\", label)\n",
        "print(\"Predicted label:\", round(prediction))"
      ]
    },
    {
      "cell_type": "code",
      "execution_count": null,
      "id": "e1550f87",
      "metadata": {
        "id": "e1550f87"
      },
      "outputs": [],
      "source": []
    }
  ],
  "metadata": {
    "kernelspec": {
      "display_name": "Python 3 (ipykernel)",
      "language": "python",
      "name": "python3"
    },
    "language_info": {
      "codemirror_mode": {
        "name": "ipython",
        "version": 3
      },
      "file_extension": ".py",
      "mimetype": "text/x-python",
      "name": "python",
      "nbconvert_exporter": "python",
      "pygments_lexer": "ipython3",
      "version": "3.9.7"
    },
    "colab": {
      "provenance": []
    }
  },
  "nbformat": 4,
  "nbformat_minor": 5
}