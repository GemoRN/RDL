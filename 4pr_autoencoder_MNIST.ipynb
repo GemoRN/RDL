{
  "cells": [
    {
      "cell_type": "markdown",
      "source": [
        "## Implement deep learning for the Prediction of the autoencoder from the test data (e.g. MNIST (data set)"
      ],
      "metadata": {
        "id": "kMbYl0z8vkBc"
      },
      "id": "kMbYl0z8vkBc"
    },
    {
      "cell_type": "code",
      "execution_count": 1,
      "id": "739279a2",
      "metadata": {
        "colab": {
          "base_uri": "https://localhost:8080/",
          "height": 684
        },
        "id": "739279a2",
        "outputId": "35df15c0-8052-48a7-b009-9700b53c94cc"
      },
      "outputs": [
        {
          "output_type": "stream",
          "name": "stdout",
          "text": [
            "Downloading data from https://storage.googleapis.com/tensorflow/tf-keras-datasets/mnist.npz\n",
            "11490434/11490434 [==============================] - 0s 0us/step\n",
            "Epoch 1/10\n",
            "469/469 [==============================] - 14s 26ms/step - loss: 0.2040 - val_loss: 0.1424\n",
            "Epoch 2/10\n",
            "469/469 [==============================] - 10s 20ms/step - loss: 0.1305 - val_loss: 0.1206\n",
            "Epoch 3/10\n",
            "469/469 [==============================] - 6s 13ms/step - loss: 0.1178 - val_loss: 0.1118\n",
            "Epoch 4/10\n",
            "469/469 [==============================] - 6s 14ms/step - loss: 0.1104 - val_loss: 0.1059\n",
            "Epoch 5/10\n",
            "469/469 [==============================] - 6s 13ms/step - loss: 0.1054 - val_loss: 0.1023\n",
            "Epoch 6/10\n",
            "469/469 [==============================] - 6s 13ms/step - loss: 0.1023 - val_loss: 0.0998\n",
            "Epoch 7/10\n",
            "469/469 [==============================] - 6s 14ms/step - loss: 0.1000 - val_loss: 0.0980\n",
            "Epoch 8/10\n",
            "469/469 [==============================] - 6s 13ms/step - loss: 0.0979 - val_loss: 0.0961\n",
            "Epoch 9/10\n",
            "469/469 [==============================] - 7s 14ms/step - loss: 0.0963 - val_loss: 0.0946\n",
            "Epoch 10/10\n",
            "469/469 [==============================] - 6s 13ms/step - loss: 0.0951 - val_loss: 0.0933\n",
            "313/313 [==============================] - 1s 3ms/step\n"
          ]
        },
        {
          "output_type": "display_data",
          "data": {
            "text/plain": [
              "<Figure size 2000x400 with 20 Axes>"
            ],
            "image/png": "[encoded data removed]"
          },
          "metadata": {}
        }
      ],
      "source": [
        "import tensorflow as tf\n",
        "from tensorflow import keras\n",
        "import numpy as np\n",
        "import matplotlib.pyplot as plt\n",
        "\n",
        "# Load the MNIST dataset\n",
        "(x_train, _), (x_test, _) = keras.datasets.mnist.load_data()\n",
        "\n",
        "# Normalize the pixel values to be between 0 and 1\n",
        "x_train = x_train.astype(\"float32\") / 255.0\n",
        "x_test = x_test.astype(\"float32\") / 255.0\n",
        "\n",
        "# Define the encoder architecture\n",
        "encoder = keras.models.Sequential([\n",
        "          keras.layers.Flatten(input_shape=[28, 28]),\n",
        "          keras.layers.Dense(128, activation=\"relu\"),\n",
        "          keras.layers.Dense(64, activation=\"relu\"),\n",
        "          keras.layers.Dense(32, activation=\"relu\"),\n",
        "          ])\n",
        "\n",
        "# Define the decoder architecture\n",
        "decoder = keras.models.Sequential([\n",
        "          keras.layers.Dense(64, activation=\"relu\", input_shape=[32]),\n",
        "          keras.layers.Dense(128, activation=\"relu\"),\n",
        "          keras.layers.Dense(28 * 28, activation=\"sigmoid\"),\n",
        "          keras.layers.Reshape([28, 28]),\n",
        "          ])\n",
        "\n",
        "# Combine the encoder and decoder into an autoencoder model\n",
        "autoencoder = keras.models.Sequential([encoder, decoder])\n",
        "\n",
        "# Compile the autoencoder model\n",
        "autoencoder.compile(loss=\"binary_crossentropy\", optimizer=keras.optimizers.Adam(learning_rate=0.001))\n",
        "\n",
        "# Train the autoencoder model\n",
        "history = autoencoder.fit(x_train, x_train, epochs=10, batch_size=128,validation_data=(x_test, x_test))\n",
        "\n",
        "# Use the trained autoencoder to predict the reconstructed images for the test data\n",
        "decoded_imgs = autoencoder.predict(x_test)\n",
        "\n",
        "#Plot some of the original test images and their reconstructed counterparts\n",
        "n = 10 # number of images to display\n",
        "plt.figure(figsize=(20, 4))\n",
        "for i in range(n):\n",
        "\n",
        "    # Display original images\n",
        "    ax = plt.subplot(2, n, i + 1)\n",
        "    plt.imshow(x_test[i])\n",
        "    plt.gray()\n",
        "    ax.get_xaxis().set_visible(False)\n",
        "    ax.get_yaxis().set_visible(False)\n",
        "\n",
        "    # Display reconstructed images\n",
        "    ax = plt.subplot(2, n, i + n + 1)\n",
        "    plt.imshow(decoded_imgs[i])\n",
        "    plt.gray()\n",
        "    ax.get_xaxis().set_visible(False)\n",
        "    ax.get_yaxis().set_visible(False)\n",
        "\n",
        "plt.show()"
      ]
    },
    {
      "cell_type": "code",
      "execution_count": null,
      "id": "3bd09a32",
      "metadata": {
        "id": "3bd09a32"
      },
      "outputs": [],
      "source": []
    }
  ],
  "metadata": {
    "kernelspec": {
      "display_name": "Python 3 (ipykernel)",
      "language": "python",
      "name": "python3"
    },
    "language_info": {
      "codemirror_mode": {
        "name": "ipython",
        "version": 3
      },
      "file_extension": ".py",
      "mimetype": "text/x-python",
      "name": "python",
      "nbconvert_exporter": "python",
      "pygments_lexer": "ipython3",
      "version": "3.9.7"
    },
    "colab": {
      "provenance": []
    }
  },
  "nbformat": 4,
  "nbformat_minor": 5
}