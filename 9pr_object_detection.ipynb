{
  "cells": [
    {
      "cell_type": "markdown",
      "source": [
        "## program for object detection from the image"
      ],
      "metadata": {
        "id": "_sYxK9dGzwEF"
      },
      "id": "_sYxK9dGzwEF"
    },
    {
      "cell_type": "code",
      "execution_count": 4,
      "id": "a1b1d79b",
      "metadata": {
        "colab": {
          "base_uri": "https://localhost:8080/"
        },
        "id": "a1b1d79b",
        "outputId": "b463543b-fdaa-4574-9cff-4bb5d5c2ecd7"
      },
      "outputs": [
        {
          "output_type": "stream",
          "name": "stdout",
          "text": [
            "1/1 [==============================] - 1s 1s/step\n",
            "Downloading data from https://storage.googleapis.com/download.tensorflow.org/data/imagenet_class_index.json\n",
            "35363/35363 [==============================] - 0s 0us/step\n",
            "necklace: 99.65%\n",
            "chain: 0.25%\n",
            "starfish: 0.02%\n",
            "chain_mail: 0.02%\n",
            "hook: 0.01%\n"
          ]
        }
      ],
      "source": [
        "import numpy as np\n",
        "import tensorflow as tf\n",
        "from tensorflow.keras.applications.vgg16 import VGG16, preprocess_input,decode_predictions\n",
        "from tensorflow.keras.preprocessing.image import load_img, img_to_array\n",
        "\n",
        "# Load the VGG16 model with pre-trained weights\n",
        "model = VGG16()\n",
        "\n",
        "# Load the image to detect objects in\n",
        "img = load_img(\"/content/objectdetectimage.jpg\", target_size=(224, 224))\n",
        "\n",
        "# Convert the image to a numpy array\n",
        "#The img_to_array() function adds channels: x.shape = (224, 224, 3) for RGB and (224, 224, 1) for gray image\n",
        "img_arr = img_to_array(img)\n",
        "\n",
        "#convert this array([1, 2]) to array([[1, 2]])\n",
        "#expand_dims() is used to add the number of images: x.shape = (1, 224, 224, 3)\n",
        "img_arr = np.expand_dims(img_arr, axis=0)\n",
        "#preprocess_input subtracts the mean RGB channels of the imagenet dataset.\n",
        "#This is because the model you are using has been trained on a different dataset: x.shape is still (1, 224, 224, 3)\n",
        "img_arr = preprocess_input(img_arr)\n",
        "\n",
        "# Predict the objects in the image\n",
        "preds = model.predict(img_arr)\n",
        "#Integer, how many top-guesses to return. Defaults to 5.\n",
        "decoded_preds = decode_predictions(preds, top=5)[0]\n",
        "\n",
        "# Print the predicted objects and their probabilities\n",
        "for pred in decoded_preds:\n",
        "    print(f\"{pred[1]}: {pred[2]*100:.2f}%\")"
      ]
    },
    {
      "cell_type": "code",
      "execution_count": null,
      "id": "e8d99fa5",
      "metadata": {
        "id": "e8d99fa5"
      },
      "outputs": [],
      "source": []
    }
  ],
  "metadata": {
    "kernelspec": {
      "display_name": "Python 3 (ipykernel)",
      "language": "python",
      "name": "python3"
    },
    "language_info": {
      "codemirror_mode": {
        "name": "ipython",
        "version": 3
      },
      "file_extension": ".py",
      "mimetype": "text/x-python",
      "name": "python",
      "nbconvert_exporter": "python",
      "pygments_lexer": "ipython3",
      "version": "3.9.7"
    },
    "colab": {
      "provenance": []
    }
  },
  "nbformat": 4,
  "nbformat_minor": 5
}